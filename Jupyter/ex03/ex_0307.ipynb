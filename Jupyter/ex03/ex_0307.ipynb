{
 "cells": [
  {
   "cell_type": "code",
   "execution_count": 1,
   "id": "44872cb5-bb52-444b-8eb1-e18c6a297b1a",
   "metadata": {},
   "outputs": [],
   "source": [
    "# 1.Classification with logistic regression:"
   ]
  },
  {
   "cell_type": "code",
   "execution_count": 2,
   "id": "1c8c54f2-2084-4f32-b201-49ba83333e5f",
   "metadata": {},
   "outputs": [],
   "source": [
    "import numpy as np\n",
    "import pandas as pd\n",
    "import matplotlib.pyplot as plt\n",
    "import seaborn as sns\n",
    "from sklearn.datasets import load_breast_cancer\n",
    "from sklearn.model_selection import train_test_split\n",
    "from sklearn.linear_model import LogisticRegression \n",
    "from sklearn import metrics"
   ]
  },
  {
   "cell_type": "code",
   "execution_count": 3,
   "id": "b84b88a6-554e-4320-b3e8-7e1713258b14",
   "metadata": {},
   "outputs": [],
   "source": [
    "# 1.1.Read in data and explore:"
   ]
  },
  {
   "cell_type": "code",
   "execution_count": 4,
   "id": "769330eb-1a69-44a5-b5df-56f5ca76dc89",
   "metadata": {},
   "outputs": [],
   "source": [
    "# Load data.\n",
    "data = load_breast_cancer()"
   ]
  },
  {
   "cell_type": "code",
   "execution_count": 5,
   "id": "ede6d4e1-23a6-4391-9655-bfac013141d6",
   "metadata": {},
   "outputs": [
    {
     "name": "stdout",
     "output_type": "stream",
     "text": [
      ".. _breast_cancer_dataset:\n",
      "\n",
      "Breast cancer wisconsin (diagnostic) dataset\n",
      "--------------------------------------------\n",
      "\n",
      "**Data Set Characteristics:**\n",
      "\n",
      "    :Number of Instances: 569\n",
      "\n",
      "    :Number of Attributes: 30 numeric, predictive attributes and the class\n",
      "\n",
      "    :Attribute Information:\n",
      "        - radius (mean of distances from center to points on the perimeter)\n",
      "        - texture (standard deviation of gray-scale values)\n",
      "        - perimeter\n",
      "        - area\n",
      "        - smoothness (local variation in radius lengths)\n",
      "        - compactness (perimeter^2 / area - 1.0)\n",
      "        - concavity (severity of concave portions of the contour)\n",
      "        - concave points (number of concave portions of the contour)\n",
      "        - symmetry\n",
      "        - fractal dimension (\"coastline approximation\" - 1)\n",
      "\n",
      "        The mean, standard error, and \"worst\" or largest (mean of the three\n",
      "        worst/largest values) of these features were computed for each image,\n",
      "        resulting in 30 features.  For instance, field 0 is Mean Radius, field\n",
      "        10 is Radius SE, field 20 is Worst Radius.\n",
      "\n",
      "        - class:\n",
      "                - WDBC-Malignant\n",
      "                - WDBC-Benign\n",
      "\n",
      "    :Summary Statistics:\n",
      "\n",
      "    ===================================== ====== ======\n",
      "                                           Min    Max\n",
      "    ===================================== ====== ======\n",
      "    radius (mean):                        6.981  28.11\n",
      "    texture (mean):                       9.71   39.28\n",
      "    perimeter (mean):                     43.79  188.5\n",
      "    area (mean):                          143.5  2501.0\n",
      "    smoothness (mean):                    0.053  0.163\n",
      "    compactness (mean):                   0.019  0.345\n",
      "    concavity (mean):                     0.0    0.427\n",
      "    concave points (mean):                0.0    0.201\n",
      "    symmetry (mean):                      0.106  0.304\n",
      "    fractal dimension (mean):             0.05   0.097\n",
      "    radius (standard error):              0.112  2.873\n",
      "    texture (standard error):             0.36   4.885\n",
      "    perimeter (standard error):           0.757  21.98\n",
      "    area (standard error):                6.802  542.2\n",
      "    smoothness (standard error):          0.002  0.031\n",
      "    compactness (standard error):         0.002  0.135\n",
      "    concavity (standard error):           0.0    0.396\n",
      "    concave points (standard error):      0.0    0.053\n",
      "    symmetry (standard error):            0.008  0.079\n",
      "    fractal dimension (standard error):   0.001  0.03\n",
      "    radius (worst):                       7.93   36.04\n",
      "    texture (worst):                      12.02  49.54\n",
      "    perimeter (worst):                    50.41  251.2\n",
      "    area (worst):                         185.2  4254.0\n",
      "    smoothness (worst):                   0.071  0.223\n",
      "    compactness (worst):                  0.027  1.058\n",
      "    concavity (worst):                    0.0    1.252\n",
      "    concave points (worst):               0.0    0.291\n",
      "    symmetry (worst):                     0.156  0.664\n",
      "    fractal dimension (worst):            0.055  0.208\n",
      "    ===================================== ====== ======\n",
      "\n",
      "    :Missing Attribute Values: None\n",
      "\n",
      "    :Class Distribution: 212 - Malignant, 357 - Benign\n",
      "\n",
      "    :Creator:  Dr. William H. Wolberg, W. Nick Street, Olvi L. Mangasarian\n",
      "\n",
      "    :Donor: Nick Street\n",
      "\n",
      "    :Date: November, 1995\n",
      "\n",
      "This is a copy of UCI ML Breast Cancer Wisconsin (Diagnostic) datasets.\n",
      "https://goo.gl/U2Uwz2\n",
      "\n",
      "Features are computed from a digitized image of a fine needle\n",
      "aspirate (FNA) of a breast mass.  They describe\n",
      "characteristics of the cell nuclei present in the image.\n",
      "\n",
      "Separating plane described above was obtained using\n",
      "Multisurface Method-Tree (MSM-T) [K. P. Bennett, \"Decision Tree\n",
      "Construction Via Linear Programming.\" Proceedings of the 4th\n",
      "Midwest Artificial Intelligence and Cognitive Science Society,\n",
      "pp. 97-101, 1992], a classification method which uses linear\n",
      "programming to construct a decision tree.  Relevant features\n",
      "were selected using an exhaustive search in the space of 1-4\n",
      "features and 1-3 separating planes.\n",
      "\n",
      "The actual linear program used to obtain the separating plane\n",
      "in the 3-dimensional space is that described in:\n",
      "[K. P. Bennett and O. L. Mangasarian: \"Robust Linear\n",
      "Programming Discrimination of Two Linearly Inseparable Sets\",\n",
      "Optimization Methods and Software 1, 1992, 23-34].\n",
      "\n",
      "This database is also available through the UW CS ftp server:\n",
      "\n",
      "ftp ftp.cs.wisc.edu\n",
      "cd math-prog/cpo-dataset/machine-learn/WDBC/\n",
      "\n",
      ".. topic:: References\n",
      "\n",
      "   - W.N. Street, W.H. Wolberg and O.L. Mangasarian. Nuclear feature extraction \n",
      "     for breast tumor diagnosis. IS&T/SPIE 1993 International Symposium on \n",
      "     Electronic Imaging: Science and Technology, volume 1905, pages 861-870,\n",
      "     San Jose, CA, 1993.\n",
      "   - O.L. Mangasarian, W.N. Street and W.H. Wolberg. Breast cancer diagnosis and \n",
      "     prognosis via linear programming. Operations Research, 43(4), pages 570-577, \n",
      "     July-August 1995.\n",
      "   - W.H. Wolberg, W.N. Street, and O.L. Mangasarian. Machine learning techniques\n",
      "     to diagnose breast cancer from fine-needle aspirates. Cancer Letters 77 (1994) \n",
      "     163-171.\n"
     ]
    }
   ],
   "source": [
    "# Display the description\n",
    "print(data.DESCR)"
   ]
  },
  {
   "cell_type": "code",
   "execution_count": 7,
   "id": "0068e945-905a-4b7b-bbef-9875b2ea5000",
   "metadata": {},
   "outputs": [
    {
     "name": "stdout",
     "output_type": "stream",
     "text": [
      "['mean radius' 'mean texture' 'mean perimeter' 'mean area'\n",
      " 'mean smoothness' 'mean compactness' 'mean concavity'\n",
      " 'mean concave points' 'mean symmetry' 'mean fractal dimension'\n",
      " 'radius error' 'texture error' 'perimeter error' 'area error'\n",
      " 'smoothness error' 'compactness error' 'concavity error'\n",
      " 'concave points error' 'symmetry error' 'fractal dimension error'\n",
      " 'worst radius' 'worst texture' 'worst perimeter' 'worst area'\n",
      " 'worst smoothness' 'worst compactness' 'worst concavity'\n",
      " 'worst concave points' 'worst symmetry' 'worst fractal dimension']\n"
     ]
    }
   ],
   "source": [
    "# Explanatory variables.\n",
    "X = data['data']\n",
    "print(data['feature_names'])"
   ]
  },
  {
   "cell_type": "code",
   "execution_count": 8,
   "id": "529547e1-6951-4d59-b03f-8689d15583ad",
   "metadata": {},
   "outputs": [
    {
     "data": {
      "text/plain": [
       "(569, 30)"
      ]
     },
     "execution_count": 8,
     "metadata": {},
     "output_type": "execute_result"
    }
   ],
   "source": [
    "X.shape"
   ]
  },
  {
   "cell_type": "code",
   "execution_count": 10,
   "id": "6e328585-58d0-4a37-8a5a-678bae8d95aa",
   "metadata": {},
   "outputs": [
    {
     "name": "stdout",
     "output_type": "stream",
     "text": [
      "['benign', 'malignant']\n"
     ]
    }
   ],
   "source": [
    "# Response variable\n",
    "# Relabel such that 0 = 'bening' and 1 = malignant\n",
    "Y = 1 - data['target']\n",
    "label = list(data['target_names'])\n",
    "label.reverse()\n",
    "print(label)             "
   ]
  },
  {
   "cell_type": "code",
   "execution_count": 11,
   "id": "448051b4-19a6-4cd0-a23e-e72d9452dc30",
   "metadata": {},
   "outputs": [
    {
     "name": "stderr",
     "output_type": "stream",
     "text": [
      "C:\\Users\\hoang\\anaconda3\\Lib\\site-packages\\seaborn\\_oldcore.py:1765: FutureWarning: unique with argument that is not not a Series, Index, ExtensionArray, or np.ndarray is deprecated and will raise in a future version.\n",
      "  order = pd.unique(vector)\n"
     ]
    },
    {
     "data": {
      "image/png": "[encoded data removed]",
      "text/plain": [
       "<Figure size 640x480 with 1 Axes>"
      ]
     },
     "metadata": {},
     "output_type": "display_data"
    }
   ],
   "source": [
    "# Visualize the frequency table.\n",
    "ser = pd.Series(Y)\n",
    "table = ser.value_counts()\n",
    "table = table.sort_index()\n",
    "raw_data = {'x': label, 'y': table.values}\n",
    "sns.barplot(x='x', y='y', data=raw_data)\n",
    "plt.show()"
   ]
  },
  {
   "cell_type": "code",
   "execution_count": null,
   "id": "bc38b7d4-d0c3-4303-8bc0-362505305da7",
   "metadata": {},
   "outputs": [],
   "source": [
    "# 1.2. Train and test:"
   ]
  },
  {
   "cell_type": "code",
   "execution_count": 12,
   "id": "141ab769-e0c1-4cb7-9097-c376aa4792ea",
   "metadata": {},
   "outputs": [],
   "source": [
    "# Split the dataset into training and testing.\n",
    "X_train, X_test, Y_train, Y_test = train_test_split(X, Y, test_size=0.4, random_state=1234)"
   ]
  },
  {
   "cell_type": "code",
   "execution_count": 14,
   "id": "ac3314ca-f65f-4c2d-ac4d-f66bf29bbcb6",
   "metadata": {},
   "outputs": [
    {
     "name": "stdout",
     "output_type": "stream",
     "text": [
      "(341, 30)\n",
      "(228, 30)\n",
      "(341,)\n",
      "(228,)\n"
     ]
    }
   ],
   "source": [
    "print(X_train.shape)\n",
    "print(X_test.shape)\n",
    "print(Y_train.shape)\n",
    "print(Y_test.shape)"
   ]
  },
  {
   "cell_type": "code",
   "execution_count": 15,
   "id": "ed5b2526-d516-46a3-b744-7c814b0b2006",
   "metadata": {},
   "outputs": [],
   "source": [
    "# Train and predict\n",
    "LL = LogisticRegression(solver='liblinear',max_iter=200)\n",
    "LL.fit(X_train,Y_train)\n",
    "Y_pred_test = LL.predict(X_test)"
   ]
  },
  {
   "cell_type": "code",
   "execution_count": 16,
   "id": "c1ae2b2b-619a-4d10-ab38-4c2f99923b3c",
   "metadata": {},
   "outputs": [
    {
     "name": "stdout",
     "output_type": "stream",
     "text": [
      "[[139   5]\n",
      " [ 12  72]]\n"
     ]
    }
   ],
   "source": [
    "# Confusion matrix\n",
    "conf_mat = metrics.confusion_matrix(Y_test,Y_pred_test)\n",
    "print(conf_mat)"
   ]
  },
  {
   "cell_type": "code",
   "execution_count": 18,
   "id": "474eaab7-a97e-4c68-8364-25295ed8a935",
   "metadata": {},
   "outputs": [
    {
     "name": "stdout",
     "output_type": "stream",
     "text": [
      "Accuracy = 0.925\n",
      "Sensitvity = 0.857\n",
      "Specificity = 0.965\n",
      "Precision = 0.935\n"
     ]
    }
   ],
   "source": [
    "#Accuracy, Sensitivity, Specificity and Precision using the confusion matrix.\n",
    "accuracy = (conf_mat [0,0] + conf_mat [1,1])/np.sum(conf_mat)\n",
    "sensitivity = conf_mat [1,1]/(conf_mat [1,0]+conf_mat[1,1])\n",
    "specificity = conf_mat[0,0]/(conf_mat[0,0]+conf_mat [0,1])\n",
    "precision = conf_mat [1,1]/(conf_mat[0,1]+conf_mat[1,1])\n",
    "print('Accuracy = {}'.format(np.round(accuracy, 3)))\n",
    "print('Sensitvity = {}'.format(np.round(sensitivity, 3)))\n",
    "print('Specificity = {}'.format(np.round(specificity,3)))\n",
    "print('Precision = {}'.format(np.round(precision, 3)))"
   ]
  },
  {
   "cell_type": "code",
   "execution_count": 19,
   "id": "75e8b821-8947-49e5-a1bc-075b039da4a5",
   "metadata": {},
   "outputs": [
    {
     "name": "stdout",
     "output_type": "stream",
     "text": [
      "Accuracy = 0.92544\n",
      "Sensitvity = 0.85714\n",
      "Precision = 0.93506\n"
     ]
    }
   ],
   "source": [
    "#Alternative way.\n",
    "accuracy = metrics.accuracy_score (Y_test, Y_pred_test)\n",
    "sensitivity = metrics.recall_score(Y_test, Y_pred_test)\n",
    "precision = metrics.precision_score (Y_test, Y_pred_test)\n",
    "print('Accuracy = {}'.format(np.round(accuracy, 5)))\n",
    "print('Sensitvity = {}'.format(np.round(sensitivity, 5)))\n",
    "print('Precision = {}'.format(np.round(precision, 5)))"
   ]
  },
  {
   "cell_type": "code",
   "execution_count": 20,
   "id": "5e1a6b7f-dc0e-4e46-92d8-ebab5c5de698",
   "metadata": {},
   "outputs": [],
   "source": [
    "# 1.3. Cutoff (threshold):"
   ]
  },
  {
   "cell_type": "code",
   "execution_count": 21,
   "id": "b631d550-db02-4579-8971-dc73f4aa6552",
   "metadata": {},
   "outputs": [],
   "source": [
    "# Now, predict the probability of Y = 1\n",
    "Y_pred_test_prob = LL.predict_proba(X_test) [:,1]"
   ]
  },
  {
   "cell_type": "code",
   "execution_count": 23,
   "id": "6f3b04ea-9fc1-48f4-8766-8149f1ef4255",
   "metadata": {},
   "outputs": [
    {
     "name": "stdout",
     "output_type": "stream",
     "text": [
      "[[143   1]\n",
      " [ 13  71]]\n"
     ]
    }
   ],
   "source": [
    "# One can change the cutoff at will \n",
    "cutoff = 0.7\n",
    "Y_pred_test_val = (Y_pred_test_prob > cutoff).astype(int) \n",
    "conf_mat = metrics.confusion_matrix(Y_test, Y_pred_test_val)\n",
    "print(conf_mat)"
   ]
  },
  {
   "cell_type": "code",
   "execution_count": 25,
   "id": "b1472505-f760-41b1-820e-fc48510f64b1",
   "metadata": {},
   "outputs": [
    {
     "name": "stdout",
     "output_type": "stream",
     "text": [
      "Accuracy = 0.939\n",
      "Sensitvity = 0.845\n",
      "Specificity = 0.993\n",
      "Precision = 0.986\n"
     ]
    }
   ],
   "source": [
    "accuracy = (conf_mat [0,0] + conf_mat [1,1])/np.sum(conf_mat)\n",
    "sensitivity = conf_mat [1,1]/(conf_mat [1,0]+conf_mat [1,1]) \n",
    "specificity = conf_mat [0,0]/(conf_mat [0,0]+conf_mat [0,1])\n",
    "precision = conf_mat [1,1]/(conf_mat [0,1]+conf_mat [1,1])\n",
    "print('Accuracy = {}'.format(np.round(accuracy, 3)))\n",
    "print('Sensitvity = {}'.format(np.round(sensitivity,3)))\n",
    "print('Specificity = {}'.format(np.round(specificity,3)))\n",
    "print('Precision = {}'.format(np.round(precision, 3)))"
   ]
  },
  {
   "cell_type": "code",
   "execution_count": 26,
   "id": "6489ac5f-6e93-4b4e-901e-8cf1a2093a9f",
   "metadata": {},
   "outputs": [],
   "source": [
    "#1.4. ROC curve:"
   ]
  },
  {
   "cell_type": "code",
   "execution_count": 27,
   "id": "11da0fd7-4ce1-40b2-b6f8-f4e33e655810",
   "metadata": {},
   "outputs": [],
   "source": [
    "# Initialize.\n",
    "cutoff_grid = np.linspace(0.0,1.0,100)\n",
    "TPR = []\n",
    "FPR = []"
   ]
  },
  {
   "cell_type": "code",
   "execution_count": 28,
   "id": "49ed553f-a7cf-42e5-b2b6-93181c52726f",
   "metadata": {},
   "outputs": [],
   "source": [
    "# Populate the TP and FP Lists.\n",
    "for cutoff in cutoff_grid:\n",
    "    Y_pred_test_val = (Y_pred_test_prob > cutoff).astype(int)\n",
    "    conf_mat = metrics.confusion_matrix(Y_test, Y_pred_test_val)\n",
    "    sensitivity = conf_mat [1,1]/(conf_mat [1,0]+conf_mat[1,1])\n",
    "    specificity = conf_mat [0,0]/(conf_mat [0,0]+conf_mat[0,1])\n",
    "    TPR.append(sensitivity)\n",
    "    FPR.append(1-specificity)"
   ]
  },
  {
   "cell_type": "code",
   "execution_count": 29,
   "id": "f5252ab9-c252-4699-a218-86511d5b65ba",
   "metadata": {},
   "outputs": [
    {
     "data": {
      "image/png": "[encoded data removed]",
      "text/plain": [
       "<Figure size 640x480 with 1 Axes>"
      ]
     },
     "metadata": {},
     "output_type": "display_data"
    }
   ],
   "source": [
    "#Visualize.\n",
    "plt.plot(FPR, TPR, c='red', linewidth=1.0)\n",
    "plt.xlabel('False Positive Rate') \n",
    "plt.ylabel('True Positive Rate')\n",
    "plt.title('ROC Curve')\n",
    "plt.show()"
   ]
  },
  {
   "cell_type": "code",
   "execution_count": 30,
   "id": "11a0608f-3a60-4020-824d-e96a8bef6c05",
   "metadata": {},
   "outputs": [],
   "source": [
    "#1.5. ROC curve (sklearn):"
   ]
  },
  {
   "cell_type": "code",
   "execution_count": 31,
   "id": "8ca9f65b-a1d1-42ee-9c3d-26ca7bb95920",
   "metadata": {},
   "outputs": [],
   "source": [
    "# Calculate the TPR and FPR using a Scikit Learn function. \n",
    "FPR, TPR, cutoffs = metrics.roc_curve(Y_test, Y_pred_test_prob, pos_label=1)"
   ]
  },
  {
   "cell_type": "code",
   "execution_count": 33,
   "id": "2bc8959c-3abc-4005-90c7-d2cb4e34a949",
   "metadata": {},
   "outputs": [
    {
     "data": {
      "image/png": "[encoded data removed]",
      "text/plain": [
       "<Figure size 640x480 with 1 Axes>"
      ]
     },
     "metadata": {},
     "output_type": "display_data"
    }
   ],
   "source": [
    "# Visualize.\n",
    "plt.plot(FPR, TPR, c='red', linewidth=1.0)\n",
    "plt.xlabel('False Positive') \n",
    "plt.ylabel('True Positive')\n",
    "plt.title('ROC Curve')\n",
    "plt.show()"
   ]
  },
  {
   "cell_type": "code",
   "execution_count": 34,
   "id": "c5620645-c833-4688-8184-44d672fe0843",
   "metadata": {},
   "outputs": [
    {
     "name": "stdout",
     "output_type": "stream",
     "text": [
      "AUC = 0.989\n"
     ]
    }
   ],
   "source": [
    "# AUC.\n",
    "auc = metrics.roc_auc_score (Y_test, Y_pred_test_prob)\n",
    "print('AUC = {}'.format(np.round(auc, 3)))"
   ]
  },
  {
   "cell_type": "code",
   "execution_count": null,
   "id": "442c6f97-7cdf-4a30-b452-13b96d5944fb",
   "metadata": {},
   "outputs": [],
   "source": []
  }
 ],
 "metadata": {
  "kernelspec": {
   "display_name": "Python 3 (ipykernel)",
   "language": "python",
   "name": "python3"
  },
  "language_info": {
   "codemirror_mode": {
    "name": "ipython",
    "version": 3
   },
   "file_extension": ".py",
   "mimetype": "text/x-python",
   "name": "python",
   "nbconvert_exporter": "python",
   "pygments_lexer": "ipython3",
   "version": "3.11.7"
  }
 },
 "nbformat": 4,
 "nbformat_minor": 5
}
