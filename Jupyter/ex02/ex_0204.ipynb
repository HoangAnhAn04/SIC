{
 "cells": [
  {
   "cell_type": "code",
   "execution_count": 1,
   "id": "0bec8575-9d29-4f7c-8d5a-ac82fa92fc6e",
   "metadata": {},
   "outputs": [],
   "source": [
    "import scipy.stats as st\n",
    "import numpy as np"
   ]
  },
  {
   "cell_type": "code",
   "execution_count": 2,
   "id": "c0c37474-d0aa-4381-bd75-c0b2cdbee0b6",
   "metadata": {},
   "outputs": [],
   "source": [
    "# Standard Normal corresponds to mu = 0 and sigma = 1.\n",
    "mu = 0\n",
    "sigma = 1"
   ]
  },
  {
   "cell_type": "code",
   "execution_count": 3,
   "id": "cae969a1-cd5e-4b96-ae6d-42e79f83f85c",
   "metadata": {},
   "outputs": [
    {
     "data": {
      "text/plain": [
       "1.6448536269514722"
      ]
     },
     "execution_count": 3,
     "metadata": {},
     "output_type": "execute_result"
    }
   ],
   "source": [
    "# Quantile at alpha = 0.95\n",
    "# This is useful when calculating 90% confidence interval.\n",
    "alpha = 0.95\n",
    "st.norm.ppf(alpha, loc = mu , scale = sigma)"
   ]
  },
  {
   "cell_type": "code",
   "execution_count": 4,
   "id": "55d94c44-77bd-46c7-b320-99ab935cc8db",
   "metadata": {},
   "outputs": [
    {
     "data": {
      "text/plain": [
       "1.959963984540054"
      ]
     },
     "execution_count": 4,
     "metadata": {},
     "output_type": "execute_result"
    }
   ],
   "source": [
    "alpha  = 0.975\n",
    "st.norm.ppf(alpha, loc = mu, scale = sigma)"
   ]
  },
  {
   "cell_type": "code",
   "execution_count": 6,
   "id": "5554af18-d5db-4c73-b011-76840e6b7841",
   "metadata": {},
   "outputs": [
    {
     "name": "stdout",
     "output_type": "stream",
     "text": [
      "Degree of Freedom      10, Quantile =   1.812461\n",
      "Degree of Freedom      50, Quantile =   1.675905\n",
      "Degree of Freedom     100, Quantile =   1.660234\n",
      "Degree of Freedom    2000, Quantile =   1.645616\n",
      "Degree of Freedom  100000, Quantile =   1.644869\n"
     ]
    }
   ],
   "source": [
    "alpha = 0.95\n",
    "for df in [10, 50, 100, 2000, 100000]:\n",
    "    val = st.t.ppf(alpha, df)\n",
    "    print('Degree of Freedom %7d, Quantile = %10f' % (df, val))"
   ]
  },
  {
   "cell_type": "code",
   "execution_count": 7,
   "id": "56a94484-98dc-4ebc-bb41-fe0641c19eca",
   "metadata": {},
   "outputs": [
    {
     "name": "stdout",
     "output_type": "stream",
     "text": [
      "Degree of Freedom      10, Quantile =   2.228139\n",
      "Degree of Freedom      50, Quantile =   2.008559\n",
      "Degree of Freedom     100, Quantile =   1.983972\n",
      "Degree of Freedom    2000, Quantile =   1.961151\n",
      "Degree of Freedom  100000, Quantile =   1.959988\n"
     ]
    }
   ],
   "source": [
    "alpha = 0.95\n",
    "alpha = 0.975\n",
    "for df in [10, 50, 100, 2000, 100000]:\n",
    "    val = st.t.ppf(alpha, df)\n",
    "    print('Degree of Freedom %7d, Quantile = %10f' % (df, val))"
   ]
  },
  {
   "cell_type": "code",
   "execution_count": 8,
   "id": "6d77226d-2669-425f-8612-4bd12f086088",
   "metadata": {},
   "outputs": [
    {
     "data": {
      "text/plain": [
       "0.8437643724222779"
      ]
     },
     "execution_count": 8,
     "metadata": {},
     "output_type": "execute_result"
    }
   ],
   "source": [
    "df = 5\n",
    "st.chi2.cdf(8, df)"
   ]
  },
  {
   "cell_type": "code",
   "execution_count": 10,
   "id": "a15ac99f-5e47-4253-b85a-fe4f8a8cc209",
   "metadata": {},
   "outputs": [
    {
     "data": {
      "text/plain": [
       "8.000000010482703"
      ]
     },
     "execution_count": 10,
     "metadata": {},
     "output_type": "execute_result"
    }
   ],
   "source": [
    "df = 5\n",
    "alpha = 0.843764373\n",
    "st.chi2.ppf(alpha, df)"
   ]
  },
  {
   "cell_type": "code",
   "execution_count": null,
   "id": "7aa6eaa6-8b89-4566-9c98-3681ceca7a58",
   "metadata": {},
   "outputs": [],
   "source": []
  }
 ],
 "metadata": {
  "kernelspec": {
   "display_name": "Python 3 (ipykernel)",
   "language": "python",
   "name": "python3"
  },
  "language_info": {
   "codemirror_mode": {
    "name": "ipython",
    "version": 3
   },
   "file_extension": ".py",
   "mimetype": "text/x-python",
   "name": "python",
   "nbconvert_exporter": "python",
   "pygments_lexer": "ipython3",
   "version": "3.11.7"
  }
 },
 "nbformat": 4,
 "nbformat_minor": 5
}
