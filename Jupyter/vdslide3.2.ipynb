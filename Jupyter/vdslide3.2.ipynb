{
 "cells": [
  {
   "cell_type": "code",
   "execution_count": 1,
   "id": "2d26d6da-7fb6-4f22-bf32-99eff405c433",
   "metadata": {},
   "outputs": [],
   "source": [
    "import numpy as np"
   ]
  },
  {
   "cell_type": "code",
   "execution_count": 2,
   "id": "846f7e7b-d516-4c1e-8363-6e606dc74b07",
   "metadata": {},
   "outputs": [],
   "source": [
    "def sigmoid(x):\n",
    "    S=1.0/(1.0 + np.exp(-X))\n",
    "    return S\n",
    "def gradient(X,Y,beta):\n",
    "    Z = np.dot(X.beta.T)*Y\n",
    "    ds = -Y*(1-sigmoid(z))*X\n",
    "    return ds.sum(axis = 0)"
   ]
  },
  {
   "cell_type": "code",
   "execution_count": 3,
   "id": "8dc699d2-adb4-468b-beac-d9542ffc4573",
   "metadata": {},
   "outputs": [],
   "source": [
    "def train(self, input_X, input_Y, n_epochs):\n",
    "    ones_column = np.ones((input_X.shape[0],1))\n",
    "    X = np.concatenate((ones_column, input_X), axis=1)\n",
    "    Y = (2*input_Y1).reshape(-1,1)\n",
    "    for n in range(n_epochs):\n",
    "        self.beta = self.beta - self.rate*gradient(X, Y, self.beta)\n",
    "    return self.beta"
   ]
  },
  {
   "cell_type": "code",
   "execution_count": null,
   "id": "61e48e1f-f51f-4020-81a8-d06cfdf8dad0",
   "metadata": {},
   "outputs": [],
   "source": []
  }
 ],
 "metadata": {
  "kernelspec": {
   "display_name": "Python 3 (ipykernel)",
   "language": "python",
   "name": "python3"
  },
  "language_info": {
   "codemirror_mode": {
    "name": "ipython",
    "version": 3
   },
   "file_extension": ".py",
   "mimetype": "text/x-python",
   "name": "python",
   "nbconvert_exporter": "python",
   "pygments_lexer": "ipython3",
   "version": "3.11.7"
  }
 },
 "nbformat": 4,
 "nbformat_minor": 5
}
