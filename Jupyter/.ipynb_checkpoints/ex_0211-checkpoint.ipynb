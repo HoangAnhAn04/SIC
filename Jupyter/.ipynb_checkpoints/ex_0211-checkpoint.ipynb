{
 "cells": [
  {
   "cell_type": "code",
   "execution_count": 1,
   "id": "5530ae12-2577-4af5-a1da-ff890019ef2c",
   "metadata": {},
   "outputs": [],
   "source": [
    "import pandas as pd\n",
    "import numpy as np\n",
    "import scipy.stats as st \n",
    "import os"
   ]
  },
  {
   "cell_type": "code",
   "execution_count": 2,
   "id": "6944bcf4-07f6-4817-b9c3-3638f2ff9313",
   "metadata": {},
   "outputs": [],
   "source": [
    "#Simulate the data. np.random.seed (1234) \n",
    "n = 20\n",
    "mu = 10\n",
    "sigma = 2\n",
    "x = np.random.randn(n)*sigma + mu\n",
    "ssq = x.var(ddof=1)"
   ]
  },
  {
   "cell_type": "code",
   "execution_count": 3,
   "id": "e6a5aab5-a43c-4e65-85b2-ebda37a59f35",
   "metadata": {},
   "outputs": [
    {
     "name": "stdout",
     "output_type": "stream",
     "text": [
      "Test statistic: 22.577140 \n"
     ]
    },
    {
     "data": {
      "text/plain": [
       "{'low': 8.906516481987971, 'high': 32.85232686172969}"
      ]
     },
     "execution_count": 3,
     "metadata": {},
     "output_type": "execute_result"
    }
   ],
   "source": [
    "#Test statistic.\n",
    "sigma0sq = 2**2                    #simga_0^2\n",
    "test_stat = (n-1)*ssq/sigma0sq\n",
    "print(\"Test statistic: %f \"% test_stat)\n",
    "#Obtain the acceptance range as a dictionary object.\n",
    "acceptance_range = {'low': st.chi2.ppf(0.025,n-1), 'high': st.chi2.ppf(0.975,n-1)}\n",
    "acceptance_range\n",
    "# As the test statistic belongs to the acceptance range, we conclude that the s^2 = s"
   ]
  },
  {
   "cell_type": "code",
   "execution_count": 4,
   "id": "c23a1937-4dfb-423b-b86a-3ce894c8c1c0",
   "metadata": {},
   "outputs": [
    {
     "data": {
      "text/plain": [
       "0.25648074463253256"
      ]
     },
     "execution_count": 4,
     "metadata": {},
     "output_type": "execute_result"
    }
   ],
   "source": [
    "# Right tail.\n",
    "p_value1 = 1 - st.chi2.cdf(test_stat,n-1) \n",
    "p_value1"
   ]
  },
  {
   "cell_type": "code",
   "execution_count": 5,
   "id": "fac080e7-4ff6-475e-bb55-f40c81be41f9",
   "metadata": {},
   "outputs": [
    {
     "data": {
      "text/plain": [
       "0.7435192553674674"
      ]
     },
     "execution_count": 5,
     "metadata": {},
     "output_type": "execute_result"
    }
   ],
   "source": [
    "# Left tail.\n",
    "p_value2 = st.chi2.cdf(test_stat,n-1)\n",
    "p_value2"
   ]
  },
  {
   "cell_type": "code",
   "execution_count": null,
   "id": "d04b3bbc-a644-4604-8c9c-30d5e1a64165",
   "metadata": {},
   "outputs": [],
   "source": []
  }
 ],
 "metadata": {
  "kernelspec": {
   "display_name": "Python 3 (ipykernel)",
   "language": "python",
   "name": "python3"
  },
  "language_info": {
   "codemirror_mode": {
    "name": "ipython",
    "version": 3
   },
   "file_extension": ".py",
   "mimetype": "text/x-python",
   "name": "python",
   "nbconvert_exporter": "python",
   "pygments_lexer": "ipython3",
   "version": "3.11.7"
  }
 },
 "nbformat": 4,
 "nbformat_minor": 5
}
