{
 "cells": [
  {
   "cell_type": "code",
   "execution_count": 2,
   "id": "29d15537-e904-4739-a2f4-d311beec704f",
   "metadata": {},
   "outputs": [],
   "source": [
    "import numpy as np"
   ]
  },
  {
   "cell_type": "code",
   "execution_count": 3,
   "id": "20e94dec-8419-4892-831d-1e3a0b68d9ab",
   "metadata": {},
   "outputs": [],
   "source": [
    "a = [1, 2, 3]"
   ]
  },
  {
   "cell_type": "code",
   "execution_count": 4,
   "id": "ed5d417c-5838-4417-a1a1-d9a66edfa745",
   "metadata": {},
   "outputs": [
    {
     "data": {
      "text/plain": [
       "[1, 2, 3, 1, 2, 3]"
      ]
     },
     "execution_count": 4,
     "metadata": {},
     "output_type": "execute_result"
    }
   ],
   "source": [
    "a + a"
   ]
  },
  {
   "cell_type": "code",
   "execution_count": 5,
   "id": "7566f05f-502a-4375-b188-1504ab292bd1",
   "metadata": {},
   "outputs": [
    {
     "data": {
      "text/plain": [
       "[1, 2, 3, 1, 2, 3, 1, 2, 3]"
      ]
     },
     "execution_count": 5,
     "metadata": {},
     "output_type": "execute_result"
    }
   ],
   "source": [
    "a*3"
   ]
  },
  {
   "cell_type": "code",
   "execution_count": 6,
   "id": "c2269879-57fb-40e2-9446-d9a5e6b4ea83",
   "metadata": {},
   "outputs": [],
   "source": [
    "b = np.array([1, 2, 3])"
   ]
  },
  {
   "cell_type": "code",
   "execution_count": 7,
   "id": "b6cc0e5e-6fd8-42f0-89a9-4009039d8922",
   "metadata": {},
   "outputs": [
    {
     "data": {
      "text/plain": [
       "array([3, 6, 9])"
      ]
     },
     "execution_count": 7,
     "metadata": {},
     "output_type": "execute_result"
    }
   ],
   "source": [
    "b*3"
   ]
  },
  {
   "cell_type": "code",
   "execution_count": 8,
   "id": "459cc064-1e26-4180-a4d8-22ebe4a20d5c",
   "metadata": {},
   "outputs": [
    {
     "data": {
      "text/plain": [
       "array([2, 4, 6])"
      ]
     },
     "execution_count": 8,
     "metadata": {},
     "output_type": "execute_result"
    }
   ],
   "source": [
    "b + b"
   ]
  },
  {
   "cell_type": "code",
   "execution_count": 9,
   "id": "9f3d4d67-08ba-4894-b7b3-8a931e4319dd",
   "metadata": {},
   "outputs": [
    {
     "data": {
      "text/plain": [
       "array([1, 1, 1, 2, 2, 2, 3, 3, 3])"
      ]
     },
     "execution_count": 9,
     "metadata": {},
     "output_type": "execute_result"
    }
   ],
   "source": [
    "np.repeat(b, 3)"
   ]
  },
  {
   "cell_type": "code",
   "execution_count": 10,
   "id": "13989cab-e3d2-4b3c-bf53-953e393d2a44",
   "metadata": {},
   "outputs": [],
   "source": [
    "a = np.array([1, 2, 3])\n",
    "b = np.array([4, 5, 6])"
   ]
  },
  {
   "cell_type": "code",
   "execution_count": 11,
   "id": "aedca095-b785-4592-afb3-7c133a0b7a43",
   "metadata": {},
   "outputs": [
    {
     "data": {
      "text/plain": [
       "array([5, 7, 9])"
      ]
     },
     "execution_count": 11,
     "metadata": {},
     "output_type": "execute_result"
    }
   ],
   "source": [
    "a + b"
   ]
  },
  {
   "cell_type": "code",
   "execution_count": 12,
   "id": "faa087bf-12e0-4406-84d0-0403cf5461ea",
   "metadata": {},
   "outputs": [
    {
     "data": {
      "text/plain": [
       "array([-3, -3, -3])"
      ]
     },
     "execution_count": 12,
     "metadata": {},
     "output_type": "execute_result"
    }
   ],
   "source": [
    "a - b"
   ]
  },
  {
   "cell_type": "code",
   "execution_count": 13,
   "id": "b0e08aa1-8951-40e8-ad1c-5c071de5de8d",
   "metadata": {},
   "outputs": [
    {
     "data": {
      "text/plain": [
       "array([ 4, 10, 18])"
      ]
     },
     "execution_count": 13,
     "metadata": {},
     "output_type": "execute_result"
    }
   ],
   "source": [
    "a * b"
   ]
  },
  {
   "cell_type": "code",
   "execution_count": 14,
   "id": "e74bf4fe-278f-4976-9543-e4df720817fc",
   "metadata": {},
   "outputs": [
    {
     "data": {
      "text/plain": [
       "array([0.25, 0.4 , 0.5 ])"
      ]
     },
     "execution_count": 14,
     "metadata": {},
     "output_type": "execute_result"
    }
   ],
   "source": [
    "1.0*a/b"
   ]
  },
  {
   "cell_type": "code",
   "execution_count": 15,
   "id": "dc801a8a-6298-4e94-abb6-33e4391065e8",
   "metadata": {},
   "outputs": [],
   "source": [
    "x = np.array([0, 1, 2, 3, 4, 5])"
   ]
  },
  {
   "cell_type": "code",
   "execution_count": 16,
   "id": "a1f128ed-3893-43cf-8e7f-83cd932a61e5",
   "metadata": {},
   "outputs": [
    {
     "data": {
      "text/plain": [
       "array([0.        , 1.        , 1.41421356, 1.73205081, 2.        ,\n",
       "       2.23606798])"
      ]
     },
     "execution_count": 16,
     "metadata": {},
     "output_type": "execute_result"
    }
   ],
   "source": [
    "np.sqrt(x)"
   ]
  },
  {
   "cell_type": "code",
   "execution_count": 17,
   "id": "480cac8f-0e99-4d8e-a23e-5eb9eb4341d6",
   "metadata": {},
   "outputs": [
    {
     "data": {
      "text/plain": [
       "array([  1.        ,   2.71828183,   7.3890561 ,  20.08553692,\n",
       "        54.59815003, 148.4131591 ])"
      ]
     },
     "execution_count": 17,
     "metadata": {},
     "output_type": "execute_result"
    }
   ],
   "source": [
    "np.exp(x)"
   ]
  },
  {
   "cell_type": "code",
   "execution_count": 18,
   "id": "f4275bdb-9b8c-4942-a848-47d8f3155d11",
   "metadata": {},
   "outputs": [
    {
     "data": {
      "text/plain": [
       "numpy.ufunc"
      ]
     },
     "execution_count": 18,
     "metadata": {},
     "output_type": "execute_result"
    }
   ],
   "source": [
    "type(np.sqrt)"
   ]
  },
  {
   "cell_type": "code",
   "execution_count": 20,
   "id": "f4c563f3-8f96-4a0e-a519-b62075cc0b60",
   "metadata": {},
   "outputs": [
    {
     "data": {
      "text/plain": [
       "numpy.ufunc"
      ]
     },
     "execution_count": 20,
     "metadata": {},
     "output_type": "execute_result"
    }
   ],
   "source": [
    "type(np.exp)"
   ]
  },
  {
   "cell_type": "code",
   "execution_count": 22,
   "id": "65b744eb-7504-4a90-94f3-c513ba896333",
   "metadata": {},
   "outputs": [],
   "source": [
    "np.random.seed(123)\n",
    "a = np.random.randint(1, 11, size = 1000)"
   ]
  },
  {
   "cell_type": "code",
   "execution_count": 23,
   "id": "8632adef-ae3a-482d-a89d-2b6dfc6b036f",
   "metadata": {},
   "outputs": [
    {
     "data": {
      "text/plain": [
       "array([ 1,  2,  3,  4,  5,  6,  7,  8,  9, 10])"
      ]
     },
     "execution_count": 23,
     "metadata": {},
     "output_type": "execute_result"
    }
   ],
   "source": [
    "np.unique(a)"
   ]
  },
  {
   "cell_type": "code",
   "execution_count": 24,
   "id": "df3caa35-c44c-47d2-9c7a-286ff748c79a",
   "metadata": {},
   "outputs": [
    {
     "data": {
      "text/plain": [
       "5.0"
      ]
     },
     "execution_count": 24,
     "metadata": {},
     "output_type": "execute_result"
    }
   ],
   "source": [
    "np.median(a)"
   ]
  },
  {
   "cell_type": "code",
   "execution_count": 25,
   "id": "2b2e0c69-2c88-4f1c-a876-469610a5bc48",
   "metadata": {},
   "outputs": [
    {
     "data": {
      "text/plain": [
       "5485"
      ]
     },
     "execution_count": 25,
     "metadata": {},
     "output_type": "execute_result"
    }
   ],
   "source": [
    "np.sum(a)"
   ]
  },
  {
   "cell_type": "code",
   "execution_count": 26,
   "id": "90c0553f-6be4-4121-9804-4f4ec2d5077c",
   "metadata": {},
   "outputs": [
    {
     "data": {
      "text/plain": [
       "8.19"
      ]
     },
     "execution_count": 26,
     "metadata": {},
     "output_type": "execute_result"
    }
   ],
   "source": [
    "np.round(np.var(a), 2)"
   ]
  },
  {
   "cell_type": "code",
   "execution_count": 27,
   "id": "4161a856-6025-41b9-8b42-e29e5014b193",
   "metadata": {},
   "outputs": [
    {
     "data": {
      "text/plain": [
       "5.48"
      ]
     },
     "execution_count": 27,
     "metadata": {},
     "output_type": "execute_result"
    }
   ],
   "source": [
    "np.round(np.mean(a), 2)"
   ]
  },
  {
   "cell_type": "code",
   "execution_count": 28,
   "id": "ae1cf2dc-386c-4b4a-aec7-56bc0d9f8f56",
   "metadata": {},
   "outputs": [
    {
     "data": {
      "text/plain": [
       "2.86"
      ]
     },
     "execution_count": 28,
     "metadata": {},
     "output_type": "execute_result"
    }
   ],
   "source": [
    "np.round(np.std(a), 2)"
   ]
  },
  {
   "cell_type": "code",
   "execution_count": 29,
   "id": "f694d543-d5a4-4aa6-bb61-c12ec6a90f52",
   "metadata": {},
   "outputs": [
    {
     "data": {
      "text/plain": [
       "10"
      ]
     },
     "execution_count": 29,
     "metadata": {},
     "output_type": "execute_result"
    }
   ],
   "source": [
    "np.max(a)"
   ]
  },
  {
   "cell_type": "code",
   "execution_count": 30,
   "id": "c0bdf6c4-55f1-4957-97a6-b252c8bf8b58",
   "metadata": {},
   "outputs": [
    {
     "data": {
      "text/plain": [
       "1"
      ]
     },
     "execution_count": 30,
     "metadata": {},
     "output_type": "execute_result"
    }
   ],
   "source": [
    "np.min(a)"
   ]
  },
  {
   "cell_type": "code",
   "execution_count": 31,
   "id": "f8077efc-cfa5-4aed-ad60-73d7d1127f0d",
   "metadata": {},
   "outputs": [],
   "source": [
    "x = np.arange(1,11)"
   ]
  },
  {
   "cell_type": "code",
   "execution_count": 32,
   "id": "9e74cdf3-5b54-45e7-a550-ea95f138afed",
   "metadata": {},
   "outputs": [
    {
     "data": {
      "text/plain": [
       "55"
      ]
     },
     "execution_count": 32,
     "metadata": {},
     "output_type": "execute_result"
    }
   ],
   "source": [
    "x.sum()"
   ]
  },
  {
   "cell_type": "code",
   "execution_count": 33,
   "id": "7f3a4d3e-e732-468a-8418-e4861d60dabc",
   "metadata": {},
   "outputs": [
    {
     "data": {
      "text/plain": [
       "5.5"
      ]
     },
     "execution_count": 33,
     "metadata": {},
     "output_type": "execute_result"
    }
   ],
   "source": [
    "x.mean()"
   ]
  },
  {
   "cell_type": "code",
   "execution_count": 34,
   "id": "afd8befb-64a0-4f9c-a1e3-9912bc4dfa06",
   "metadata": {},
   "outputs": [
    {
     "data": {
      "text/plain": [
       "2.8722813232690143"
      ]
     },
     "execution_count": 34,
     "metadata": {},
     "output_type": "execute_result"
    }
   ],
   "source": [
    "x.std()"
   ]
  },
  {
   "cell_type": "code",
   "execution_count": 35,
   "id": "a54ff39e-59e4-476c-8a95-5fc156674c21",
   "metadata": {},
   "outputs": [
    {
     "data": {
      "text/plain": [
       "8.25"
      ]
     },
     "execution_count": 35,
     "metadata": {},
     "output_type": "execute_result"
    }
   ],
   "source": [
    "x.var()"
   ]
  },
  {
   "cell_type": "code",
   "execution_count": 36,
   "id": "1b3260b4-c413-4afd-91f7-dc2095691f26",
   "metadata": {},
   "outputs": [
    {
     "data": {
      "text/plain": [
       "array([ 1,  3,  6, 10, 15, 21, 28, 36, 45, 55])"
      ]
     },
     "execution_count": 36,
     "metadata": {},
     "output_type": "execute_result"
    }
   ],
   "source": [
    "x.cumsum()"
   ]
  },
  {
   "cell_type": "code",
   "execution_count": 37,
   "id": "a3ef3c1f-44ce-452f-9d5f-b3644ef07324",
   "metadata": {},
   "outputs": [
    {
     "name": "stdout",
     "output_type": "stream",
     "text": [
      "[[1 2 3]\n",
      " [4 5 6]\n",
      " [7 8 9]]\n"
     ]
    }
   ],
   "source": [
    "y = np.arange(1,10)\n",
    "y = y.reshape((3,-1))\n",
    "print(y)"
   ]
  },
  {
   "cell_type": "code",
   "execution_count": 38,
   "id": "b9b09a9d-200c-4a93-849f-8c937ee4b264",
   "metadata": {},
   "outputs": [
    {
     "name": "stdout",
     "output_type": "stream",
     "text": [
      "[4. 5. 6.]\n"
     ]
    }
   ],
   "source": [
    "print(y.mean(axis =0))"
   ]
  },
  {
   "cell_type": "code",
   "execution_count": 39,
   "id": "57976f2e-8bdc-4a0b-8518-aa24603a62da",
   "metadata": {},
   "outputs": [
    {
     "name": "stdout",
     "output_type": "stream",
     "text": [
      "[2. 5. 8.]\n"
     ]
    }
   ],
   "source": [
    "print(y.mean(axis =1))"
   ]
  },
  {
   "cell_type": "code",
   "execution_count": 40,
   "id": "ef04f505-da60-49f0-9eb9-a953f0098a1f",
   "metadata": {},
   "outputs": [],
   "source": [
    "z=np.random.randint(10,size=1000)"
   ]
  },
  {
   "cell_type": "code",
   "execution_count": 41,
   "id": "bf8e1535-b2e4-4c00-ad69-28c10d31a50e",
   "metadata": {},
   "outputs": [
    {
     "data": {
      "text/plain": [
       "9"
      ]
     },
     "execution_count": 41,
     "metadata": {},
     "output_type": "execute_result"
    }
   ],
   "source": [
    "z.max()"
   ]
  },
  {
   "cell_type": "code",
   "execution_count": 42,
   "id": "b3c50ea2-03ab-4a5e-8dc5-6bc9ea8476f3",
   "metadata": {},
   "outputs": [
    {
     "data": {
      "text/plain": [
       "0"
      ]
     },
     "execution_count": 42,
     "metadata": {},
     "output_type": "execute_result"
    }
   ],
   "source": [
    "z.min()"
   ]
  },
  {
   "cell_type": "code",
   "execution_count": 43,
   "id": "0cfaa385-4712-466e-b1a2-b22b3038d150",
   "metadata": {},
   "outputs": [
    {
     "data": {
      "text/plain": [
       "392"
      ]
     },
     "execution_count": 43,
     "metadata": {},
     "output_type": "execute_result"
    }
   ],
   "source": [
    "(z > 5).sum()"
   ]
  },
  {
   "cell_type": "code",
   "execution_count": 44,
   "id": "c1b64160-4ecf-402a-9318-e1ff142299a1",
   "metadata": {},
   "outputs": [
    {
     "data": {
      "text/plain": [
       "array([0, 1, 2, 3, 4, 5, 6, 7, 8, 9])"
      ]
     },
     "execution_count": 44,
     "metadata": {},
     "output_type": "execute_result"
    }
   ],
   "source": [
    "np.unique(z)"
   ]
  },
  {
   "cell_type": "code",
   "execution_count": 45,
   "id": "de778d4c-2174-40e3-afe3-4348511d9c6d",
   "metadata": {},
   "outputs": [
    {
     "data": {
      "text/plain": [
       "[0, 1, 2, 3, 4, 5, 6, 7, 8, 9]"
      ]
     },
     "execution_count": 45,
     "metadata": {},
     "output_type": "execute_result"
    }
   ],
   "source": [
    "sorted(set(z))"
   ]
  },
  {
   "cell_type": "code",
   "execution_count": 46,
   "id": "4978e002-853e-4e8e-b671-367c2ec5af5e",
   "metadata": {},
   "outputs": [],
   "source": [
    "a = np.array([2,-3,4,5,7,0,1,-1])"
   ]
  },
  {
   "cell_type": "code",
   "execution_count": 47,
   "id": "1f1b0d55-bdbf-43b9-8ed6-0fbdc5b1d76d",
   "metadata": {},
   "outputs": [
    {
     "data": {
      "text/plain": [
       "4"
      ]
     },
     "execution_count": 47,
     "metadata": {},
     "output_type": "execute_result"
    }
   ],
   "source": [
    "a.argmax()"
   ]
  },
  {
   "cell_type": "code",
   "execution_count": 48,
   "id": "7787ce2a-1dcf-4b7c-a4e1-3c66cbf4f6dc",
   "metadata": {},
   "outputs": [
    {
     "data": {
      "text/plain": [
       "1"
      ]
     },
     "execution_count": 48,
     "metadata": {},
     "output_type": "execute_result"
    }
   ],
   "source": [
    "a.argmin()"
   ]
  },
  {
   "cell_type": "code",
   "execution_count": null,
   "id": "6faf1d07-631e-437c-b6e7-6e41d4967c72",
   "metadata": {},
   "outputs": [],
   "source": []
  }
 ],
 "metadata": {
  "kernelspec": {
   "display_name": "Python 3 (ipykernel)",
   "language": "python",
   "name": "python3"
  },
  "language_info": {
   "codemirror_mode": {
    "name": "ipython",
    "version": 3
   },
   "file_extension": ".py",
   "mimetype": "text/x-python",
   "name": "python",
   "nbconvert_exporter": "python",
   "pygments_lexer": "ipython3",
   "version": "3.11.7"
  }
 },
 "nbformat": 4,
 "nbformat_minor": 5
}
