{
 "cells": [
  {
   "cell_type": "code",
   "execution_count": 1,
   "id": "dec2fb95-10b3-45f5-a201-245bb8477c12",
   "metadata": {},
   "outputs": [],
   "source": [
    "import numpy as np\n",
    "import scipy.stats as st"
   ]
  },
  {
   "cell_type": "code",
   "execution_count": 2,
   "id": "cecd5870-10fa-4591-b54d-f247b2f4433f",
   "metadata": {},
   "outputs": [],
   "source": [
    "# Simulate one sample x with Normal distribution.\n",
    "#mu = 3, sigma = 2, n = 10\n",
    "n = 10\n",
    "mu = 3\n",
    "sigma = 2\n",
    "np.random.seed(1234)\n",
    "x = np.random.randn(n)*sigma + mu"
   ]
  },
  {
   "cell_type": "code",
   "execution_count": 3,
   "id": "4b0abed2-7818-419b-ac5b-142aa65cc6a1",
   "metadata": {},
   "outputs": [
    {
     "data": {
      "text/plain": [
       "TtestResult(statistic=3.8682023385794677, pvalue=0.0037991794351627216, df=9)"
      ]
     },
     "execution_count": 3,
     "metadata": {},
     "output_type": "execute_result"
    }
   ],
   "source": [
    "# Compare the mean with 0.\n",
    "mu_0 = 0\n",
    "st.ttest_1samp(x, mu_0)"
   ]
  },
  {
   "cell_type": "code",
   "execution_count": 4,
   "id": "a9b942a4-3385-41f1-b330-19e1db7df176",
   "metadata": {},
   "outputs": [
    {
     "data": {
      "text/plain": [
       "0.003799179435162836"
      ]
     },
     "execution_count": 4,
     "metadata": {},
     "output_type": "execute_result"
    }
   ],
   "source": [
    "# Using the formula from the Lecture.\n",
    "#Compare the mean with 0.\n",
    "mu_0 = 0\n",
    "x_mean = x.mean()\n",
    "SEM = x.std(ddof=1)/np.sqrt(n)\n",
    "p_value = (1-st.t.cdf((x_mean-mu_0)/SEM, df=n-1))*2\n",
    "p_value"
   ]
  },
  {
   "cell_type": "code",
   "execution_count": 5,
   "id": "d0b12c53-36f2-4d16-a021-c5c8c27e2378",
   "metadata": {},
   "outputs": [
    {
     "data": {
      "text/plain": [
       "0.03722962101247096"
      ]
     },
     "execution_count": 5,
     "metadata": {},
     "output_type": "execute_result"
    }
   ],
   "source": [
    "# Using the formula from the Lecture.\n",
    "# Compare the mean with 1.\n",
    "mu_0 = 1\n",
    "p_value = (1-st.t.cdf((x_mean-mu_0)/SEM, df=n-1))*2\n",
    "p_value"
   ]
  },
  {
   "cell_type": "code",
   "execution_count": 6,
   "id": "4deb9f26-37c5-47af-abad-258ee1e9f0d7",
   "metadata": {},
   "outputs": [
    {
     "data": {
      "text/plain": [
       "0.3360674694425527"
      ]
     },
     "execution_count": 6,
     "metadata": {},
     "output_type": "execute_result"
    }
   ],
   "source": [
    "# Compare the mean with 2.\n",
    "mu_0 = 2\n",
    "p_value = (1-st.t.cdf((x_mean-mu_0)/SEM, df=n-1))*2\n",
    "p_value"
   ]
  },
  {
   "cell_type": "code",
   "execution_count": 7,
   "id": "79aee484-7d6e-473d-9d81-9521e3355722",
   "metadata": {},
   "outputs": [
    {
     "data": {
      "text/plain": [
       "0.001899589717581418"
      ]
     },
     "execution_count": 7,
     "metadata": {},
     "output_type": "execute_result"
    }
   ],
   "source": [
    "#Using the formulo from the Lecture.\n",
    "#Compare the mean with 0.\n",
    "mu_0 = 0\n",
    "p_value = (1-st.t.cdf((x_mean-mu_0)/SEM, df=n-1))         # Use the same x mean and\n",
    "p_value"
   ]
  },
  {
   "cell_type": "code",
   "execution_count": 8,
   "id": "8b36ecd1-594b-409f-8277-137bab4172a9",
   "metadata": {},
   "outputs": [
    {
     "data": {
      "text/plain": [
       "0.01861481050623548"
      ]
     },
     "execution_count": 8,
     "metadata": {},
     "output_type": "execute_result"
    }
   ],
   "source": [
    "mu_0 = 1\n",
    "p_value = (1-st.t.cdf((x_mean-mu_0)/SEM, df=n-1))      # Use the same x_mean and\n",
    "p_value"
   ]
  },
  {
   "cell_type": "code",
   "execution_count": 9,
   "id": "aab35095-404a-4060-88f3-0c8ef3069b8a",
   "metadata": {},
   "outputs": [
    {
     "data": {
      "text/plain": [
       "0.16803373472127636"
      ]
     },
     "execution_count": 9,
     "metadata": {},
     "output_type": "execute_result"
    }
   ],
   "source": [
    "# Using the formula from the Lecture.\n",
    "# Compare the mean with 2.\n",
    "mu_0 = 2\n",
    "p_value = (1-st.t.cdf((x_mean-mu_0)/SEM, df=n-1))\n",
    "p_value"
   ]
  },
  {
   "cell_type": "code",
   "execution_count": 10,
   "id": "47dfe4e1-c557-4de4-b19d-a275f79461fd",
   "metadata": {},
   "outputs": [
    {
     "data": {
      "text/plain": [
       "0.9981004102824186"
      ]
     },
     "execution_count": 10,
     "metadata": {},
     "output_type": "execute_result"
    }
   ],
   "source": [
    "#Using the formula from the lecture.\n",
    "# Compare the mean with 0.\n",
    "mu_0 = 0\n",
    "p_value = st.t.cdf((x_mean-mu_0)/SEM, df=n-1)\n",
    "p_value"
   ]
  },
  {
   "cell_type": "code",
   "execution_count": 11,
   "id": "9ce1786c-ae2b-4e0f-9d25-87780e7bff32",
   "metadata": {},
   "outputs": [
    {
     "data": {
      "text/plain": [
       "0.9813851894937645"
      ]
     },
     "execution_count": 11,
     "metadata": {},
     "output_type": "execute_result"
    }
   ],
   "source": [
    "# Using the formula from the Lecture.\n",
    "#Compare the mean with 1.\n",
    "mu_0 = 1\n",
    "p_value = st.t.cdf((x_mean-mu_0)/SEM, df=n-1)\n",
    "p_value"
   ]
  },
  {
   "cell_type": "code",
   "execution_count": 12,
   "id": "f583cd44-e71d-4c08-aa26-d46eb49b194d",
   "metadata": {},
   "outputs": [
    {
     "data": {
      "text/plain": [
       "0.8319662652787236"
      ]
     },
     "execution_count": 12,
     "metadata": {},
     "output_type": "execute_result"
    }
   ],
   "source": [
    "#Using the formula from the Lecture.\n",
    "#Compare the mean with 2.\n",
    "mu_0 = 2\n",
    "p_value = st.t.cdf((x_mean-mu_0)/SEM, df=n-1)\n",
    "p_value"
   ]
  },
  {
   "cell_type": "code",
   "execution_count": 13,
   "id": "e90ba320-5f31-4c7d-adba-96e64ed34e73",
   "metadata": {},
   "outputs": [],
   "source": [
    "# Simulate two samples x1 and x2 with Normal distribution.\n",
    "# mu1 = 3, sigma1 = 2, п1= 10.\n",
    "# mu2 = 5, sigma2 = 3, n2= 20\n",
    "n1 = 10 \n",
    "n2 = 20 \n",
    "mu1 = 3 \n",
    "mu2 = 5\n",
    "sigma1 = 2 \n",
    "sigma2 = 3 \n",
    "x1 = np.random.randn(n1)*sigma1 + mu1 \n",
    "x2 = np.random.randn(n2)*sigma2 + mu2"
   ]
  },
  {
   "cell_type": "code",
   "execution_count": 14,
   "id": "eb2f6a9e-cb8c-4ae5-98af-ec7e31f71faf",
   "metadata": {},
   "outputs": [
    {
     "data": {
      "text/plain": [
       "TtestResult(statistic=-2.870701133767877, pvalue=0.009090146778647546, df=21.218504456666945)"
      ]
     },
     "execution_count": 14,
     "metadata": {},
     "output_type": "execute_result"
    }
   ],
   "source": [
    "#Using dirrectly the dataset.\n",
    "#Assume different variances.\n",
    "#Two tail test.\n",
    "st.ttest_ind(x1, x2, equal_var=False)"
   ]
  },
  {
   "cell_type": "code",
   "execution_count": 15,
   "id": "710fca3a-d699-4721-af05-694b3660a912",
   "metadata": {},
   "outputs": [
    {
     "data": {
      "text/plain": [
       "Ttest_indResult(statistic=-2.870701133767877, pvalue=0.009090146778647546)"
      ]
     },
     "execution_count": 15,
     "metadata": {},
     "output_type": "execute_result"
    }
   ],
   "source": [
    "# Using the statistic calculated with the dataset.\n",
    "#Assume different variances.\n",
    "#Two tail test.\n",
    "x1_mean = x1.mean()\n",
    "x2_mean = x2.mean()\n",
    "s1 = x1.std(ddof=1)\n",
    "s2 = x2.std(ddof=1)\n",
    "st.ttest_ind_from_stats(x1_mean, s1, n1, x2_mean, s2, n2, equal_var=False)"
   ]
  },
  {
   "cell_type": "code",
   "execution_count": 16,
   "id": "3e19e33d-cd4e-496e-8253-ece39f77312b",
   "metadata": {},
   "outputs": [],
   "source": [
    "#Simulate two samples with Normal distribution.\n",
    "# Notice that the x2 is created by adding some 'noise' to the x1.\n",
    "#So, 'ane to one relation is established.\n",
    "n = 10\n",
    "x1 = np.random.randn(n)*5 + 3\n",
    "х2 = x1 + np.random.randn(n)*1 + 1"
   ]
  },
  {
   "cell_type": "code",
   "execution_count": 17,
   "id": "3132529a-bcdf-4e15-8f32-30f2d7cd32bf",
   "metadata": {},
   "outputs": [
    {
     "ename": "ValueError",
     "evalue": "unequal length arrays",
     "output_type": "error",
     "traceback": [
      "\u001b[1;31m---------------------------------------------------------------------------\u001b[0m",
      "\u001b[1;31mValueError\u001b[0m                                Traceback (most recent call last)",
      "\u001b[1;32m~\\AppData\\Local\\Temp\\ipykernel_7076\\445104892.py\u001b[0m in \u001b[0;36m?\u001b[1;34m()\u001b[0m\n\u001b[0;32m      1\u001b[0m \u001b[1;31m# Using the ttest_rel() function from the Scipy Library.\u001b[0m\u001b[1;33m\u001b[0m\u001b[1;33m\u001b[0m\u001b[0m\n\u001b[0;32m      2\u001b[0m \u001b[1;31m#Two tail test.\u001b[0m\u001b[1;33m\u001b[0m\u001b[1;33m\u001b[0m\u001b[0m\n\u001b[1;32m----> 3\u001b[1;33m \u001b[0mst\u001b[0m\u001b[1;33m.\u001b[0m\u001b[0mttest_rel\u001b[0m\u001b[1;33m(\u001b[0m\u001b[0mx1\u001b[0m\u001b[1;33m,\u001b[0m\u001b[0mx2\u001b[0m\u001b[1;33m)\u001b[0m\u001b[1;33m\u001b[0m\u001b[1;33m\u001b[0m\u001b[0m\n\u001b[0m",
      "\u001b[1;32m~\\anaconda3\\Lib\\site-packages\\scipy\\stats\\_axis_nan_policy.py\u001b[0m in \u001b[0;36m?\u001b[1;34m(***failed resolving arguments***)\u001b[0m\n\u001b[0;32m    519\u001b[0m                 \u001b[1;31m# behavior of those would break backward compatibility.\u001b[0m\u001b[1;33m\u001b[0m\u001b[1;33m\u001b[0m\u001b[0m\n\u001b[0;32m    520\u001b[0m \u001b[1;33m\u001b[0m\u001b[0m\n\u001b[0;32m    521\u001b[0m                 \u001b[1;32mif\u001b[0m \u001b[0msentinel\u001b[0m\u001b[1;33m:\u001b[0m\u001b[1;33m\u001b[0m\u001b[1;33m\u001b[0m\u001b[0m\n\u001b[0;32m    522\u001b[0m                     \u001b[0msamples\u001b[0m \u001b[1;33m=\u001b[0m \u001b[0m_remove_sentinel\u001b[0m\u001b[1;33m(\u001b[0m\u001b[0msamples\u001b[0m\u001b[1;33m,\u001b[0m \u001b[0mpaired\u001b[0m\u001b[1;33m,\u001b[0m \u001b[0msentinel\u001b[0m\u001b[1;33m)\u001b[0m\u001b[1;33m\u001b[0m\u001b[1;33m\u001b[0m\u001b[0m\n\u001b[1;32m--> 523\u001b[1;33m                 \u001b[0mres\u001b[0m \u001b[1;33m=\u001b[0m \u001b[0mhypotest_fun_out\u001b[0m\u001b[1;33m(\u001b[0m\u001b[1;33m*\u001b[0m\u001b[0msamples\u001b[0m\u001b[1;33m,\u001b[0m \u001b[1;33m**\u001b[0m\u001b[0mkwds\u001b[0m\u001b[1;33m)\u001b[0m\u001b[1;33m\u001b[0m\u001b[1;33m\u001b[0m\u001b[0m\n\u001b[0m\u001b[0;32m    524\u001b[0m                 \u001b[0mres\u001b[0m \u001b[1;33m=\u001b[0m \u001b[0mresult_to_tuple\u001b[0m\u001b[1;33m(\u001b[0m\u001b[0mres\u001b[0m\u001b[1;33m)\u001b[0m\u001b[1;33m\u001b[0m\u001b[1;33m\u001b[0m\u001b[0m\n\u001b[0;32m    525\u001b[0m                 \u001b[0mres\u001b[0m \u001b[1;33m=\u001b[0m \u001b[0m_add_reduced_axes\u001b[0m\u001b[1;33m(\u001b[0m\u001b[0mres\u001b[0m\u001b[1;33m,\u001b[0m \u001b[0mreduced_axes\u001b[0m\u001b[1;33m,\u001b[0m \u001b[0mkeepdims\u001b[0m\u001b[1;33m)\u001b[0m\u001b[1;33m\u001b[0m\u001b[1;33m\u001b[0m\u001b[0m\n\u001b[0;32m    526\u001b[0m                 \u001b[1;32mreturn\u001b[0m \u001b[0mtuple_to_result\u001b[0m\u001b[1;33m(\u001b[0m\u001b[1;33m*\u001b[0m\u001b[0mres\u001b[0m\u001b[1;33m)\u001b[0m\u001b[1;33m\u001b[0m\u001b[1;33m\u001b[0m\u001b[0m\n",
      "\u001b[1;32m~\\anaconda3\\Lib\\site-packages\\scipy\\stats\\_stats_py.py\u001b[0m in \u001b[0;36m?\u001b[1;34m(a, b, axis, nan_policy, alternative)\u001b[0m\n\u001b[0;32m   7782\u001b[0m \u001b[1;33m\u001b[0m\u001b[0m\n\u001b[0;32m   7783\u001b[0m     \u001b[0mna\u001b[0m \u001b[1;33m=\u001b[0m \u001b[0m_get_len\u001b[0m\u001b[1;33m(\u001b[0m\u001b[0ma\u001b[0m\u001b[1;33m,\u001b[0m \u001b[0maxis\u001b[0m\u001b[1;33m,\u001b[0m \u001b[1;34m\"first argument\"\u001b[0m\u001b[1;33m)\u001b[0m\u001b[1;33m\u001b[0m\u001b[1;33m\u001b[0m\u001b[0m\n\u001b[0;32m   7784\u001b[0m     \u001b[0mnb\u001b[0m \u001b[1;33m=\u001b[0m \u001b[0m_get_len\u001b[0m\u001b[1;33m(\u001b[0m\u001b[0mb\u001b[0m\u001b[1;33m,\u001b[0m \u001b[0maxis\u001b[0m\u001b[1;33m,\u001b[0m \u001b[1;34m\"second argument\"\u001b[0m\u001b[1;33m)\u001b[0m\u001b[1;33m\u001b[0m\u001b[1;33m\u001b[0m\u001b[0m\n\u001b[0;32m   7785\u001b[0m     \u001b[1;32mif\u001b[0m \u001b[0mna\u001b[0m \u001b[1;33m!=\u001b[0m \u001b[0mnb\u001b[0m\u001b[1;33m:\u001b[0m\u001b[1;33m\u001b[0m\u001b[1;33m\u001b[0m\u001b[0m\n\u001b[1;32m-> 7786\u001b[1;33m         \u001b[1;32mraise\u001b[0m \u001b[0mValueError\u001b[0m\u001b[1;33m(\u001b[0m\u001b[1;34m'unequal length arrays'\u001b[0m\u001b[1;33m)\u001b[0m\u001b[1;33m\u001b[0m\u001b[1;33m\u001b[0m\u001b[0m\n\u001b[0m\u001b[0;32m   7787\u001b[0m \u001b[1;33m\u001b[0m\u001b[0m\n\u001b[0;32m   7788\u001b[0m     \u001b[1;32mif\u001b[0m \u001b[0mna\u001b[0m \u001b[1;33m==\u001b[0m \u001b[1;36m0\u001b[0m \u001b[1;32mor\u001b[0m \u001b[0mnb\u001b[0m \u001b[1;33m==\u001b[0m \u001b[1;36m0\u001b[0m\u001b[1;33m:\u001b[0m\u001b[1;33m\u001b[0m\u001b[1;33m\u001b[0m\u001b[0m\n\u001b[0;32m   7789\u001b[0m         \u001b[1;31m# _axis_nan_policy decorator ensures this only happens with 1d input\u001b[0m\u001b[1;33m\u001b[0m\u001b[1;33m\u001b[0m\u001b[0m\n",
      "\u001b[1;31mValueError\u001b[0m: unequal length arrays"
     ]
    }
   ],
   "source": [
    "# Using the ttest_rel() function from the Scipy Library.\n",
    "#Two tail test.\n",
    "st.ttest_rel(x1,x2)"
   ]
  },
  {
   "cell_type": "code",
   "execution_count": null,
   "id": "1c64e7e6-93d9-411d-b731-5989783b534e",
   "metadata": {},
   "outputs": [],
   "source": []
  }
 ],
 "metadata": {
  "kernelspec": {
   "display_name": "Python 3 (ipykernel)",
   "language": "python",
   "name": "python3"
  },
  "language_info": {
   "codemirror_mode": {
    "name": "ipython",
    "version": 3
   },
   "file_extension": ".py",
   "mimetype": "text/x-python",
   "name": "python",
   "nbconvert_exporter": "python",
   "pygments_lexer": "ipython3",
   "version": "3.11.7"
  }
 },
 "nbformat": 4,
 "nbformat_minor": 5
}
