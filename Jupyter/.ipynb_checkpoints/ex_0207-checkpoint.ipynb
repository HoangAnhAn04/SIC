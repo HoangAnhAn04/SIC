{
 "cells": [
  {
   "cell_type": "code",
   "execution_count": 1,
   "id": "e7cdf74c-443a-4785-94c5-0004e9828221",
   "metadata": {},
   "outputs": [],
   "source": [
    "import pandas as pd\n",
    "import numpy as np\n",
    "import scipy.stats as st\n",
    "import os"
   ]
  },
  {
   "cell_type": "code",
   "execution_count": 2,
   "id": "26739de1-abf1-4333-a374-8a0f7622d732",
   "metadata": {},
   "outputs": [],
   "source": [
    "os.chdir(r'C:\\Users\\hoang\\Desktop\\SIC\\jupyter\\vd1')"
   ]
  },
  {
   "cell_type": "code",
   "execution_count": 3,
   "id": "ad77aeab-e315-412e-8a99-dda49bc3b05d",
   "metadata": {},
   "outputs": [],
   "source": [
    "df = pd.read_csv('data_iris.csv', header='infer')"
   ]
  },
  {
   "cell_type": "code",
   "execution_count": 4,
   "id": "7a7e90df-021d-4c43-9200-05a35c69e745",
   "metadata": {},
   "outputs": [
    {
     "data": {
      "text/plain": [
       "(150, 5)"
      ]
     },
     "execution_count": 4,
     "metadata": {},
     "output_type": "execute_result"
    }
   ],
   "source": [
    "df.shape #kich thuoc bao nhieu hang bao nhieu cot"
   ]
  },
  {
   "cell_type": "code",
   "execution_count": 5,
   "id": "d91fd728-5897-424a-954a-e80820392099",
   "metadata": {},
   "outputs": [
    {
     "data": {
      "text/html": [
       "<div>\n",
       "<style scoped>\n",
       "    .dataframe tbody tr th:only-of-type {\n",
       "        vertical-align: middle;\n",
       "    }\n",
       "\n",
       "    .dataframe tbody tr th {\n",
       "        vertical-align: top;\n",
       "    }\n",
       "\n",
       "    .dataframe thead th {\n",
       "        text-align: right;\n",
       "    }\n",
       "</style>\n",
       "<table border=\"1\" class=\"dataframe\">\n",
       "  <thead>\n",
       "    <tr style=\"text-align: right;\">\n",
       "      <th></th>\n",
       "      <th>Sepal.Length</th>\n",
       "      <th>Sepal.Width</th>\n",
       "      <th>Petal.Length</th>\n",
       "      <th>Petal.Width</th>\n",
       "      <th>Species</th>\n",
       "    </tr>\n",
       "  </thead>\n",
       "  <tbody>\n",
       "    <tr>\n",
       "      <th>0</th>\n",
       "      <td>5.1</td>\n",
       "      <td>3.5</td>\n",
       "      <td>1.4</td>\n",
       "      <td>0.2</td>\n",
       "      <td>setosa</td>\n",
       "    </tr>\n",
       "    <tr>\n",
       "      <th>1</th>\n",
       "      <td>4.9</td>\n",
       "      <td>3.0</td>\n",
       "      <td>1.4</td>\n",
       "      <td>0.2</td>\n",
       "      <td>setosa</td>\n",
       "    </tr>\n",
       "    <tr>\n",
       "      <th>2</th>\n",
       "      <td>4.7</td>\n",
       "      <td>3.2</td>\n",
       "      <td>1.3</td>\n",
       "      <td>0.2</td>\n",
       "      <td>setosa</td>\n",
       "    </tr>\n",
       "  </tbody>\n",
       "</table>\n",
       "</div>"
      ],
      "text/plain": [
       "   Sepal.Length  Sepal.Width  Petal.Length  Petal.Width Species\n",
       "0           5.1          3.5           1.4          0.2  setosa\n",
       "1           4.9          3.0           1.4          0.2  setosa\n",
       "2           4.7          3.2           1.3          0.2  setosa"
      ]
     },
     "execution_count": 5,
     "metadata": {},
     "output_type": "execute_result"
    }
   ],
   "source": [
    "df.head(3)"
   ]
  },
  {
   "cell_type": "code",
   "execution_count": 7,
   "id": "3ab540d3-e9ed-4f19-9024-046fbf5a3492",
   "metadata": {},
   "outputs": [],
   "source": [
    "#set aside two variables\n",
    "x = df['Petal.Length']\n",
    "y = df['Sepal.Length']"
   ]
  },
  {
   "cell_type": "code",
   "execution_count": 9,
   "id": "7c95b093-9b88-49be-bbb4-82cb5cdc0417",
   "metadata": {},
   "outputs": [
    {
     "data": {
      "text/plain": [
       "array([0.872, 0.   ])"
      ]
     },
     "execution_count": 9,
     "metadata": {},
     "output_type": "execute_result"
    }
   ],
   "source": [
    "#Using the Scipy function\n",
    "#Correlation and p-value\n",
    "np.round(st.pearsonr(x,y),3)"
   ]
  },
  {
   "cell_type": "code",
   "execution_count": 11,
   "id": "991a4d8d-e70b-422c-9e44-ce9cf5259543",
   "metadata": {},
   "outputs": [
    {
     "data": {
      "text/plain": [
       "0.8717541573048718"
      ]
     },
     "execution_count": 11,
     "metadata": {},
     "output_type": "execute_result"
    }
   ],
   "source": [
    "#using the pandas function\n",
    "x.corr(y)"
   ]
  },
  {
   "cell_type": "code",
   "execution_count": 9,
   "id": "ca5d79ea-bb9b-40d2-9ea1-b4e508213b6a",
   "metadata": {},
   "outputs": [
    {
     "data": {
      "text/html": [
       "<div>\n",
       "<style scoped>\n",
       "    .dataframe tbody tr th:only-of-type {\n",
       "        vertical-align: middle;\n",
       "    }\n",
       "\n",
       "    .dataframe tbody tr th {\n",
       "        vertical-align: top;\n",
       "    }\n",
       "\n",
       "    .dataframe thead th {\n",
       "        text-align: right;\n",
       "    }\n",
       "</style>\n",
       "<table border=\"1\" class=\"dataframe\">\n",
       "  <thead>\n",
       "    <tr style=\"text-align: right;\">\n",
       "      <th></th>\n",
       "      <th>Sepal.Length</th>\n",
       "      <th>Sepal.Width</th>\n",
       "      <th>Petal.Length</th>\n",
       "      <th>Petal.Width</th>\n",
       "    </tr>\n",
       "  </thead>\n",
       "  <tbody>\n",
       "    <tr>\n",
       "      <th>Sepal.Length</th>\n",
       "      <td>1.000</td>\n",
       "      <td>-0.109</td>\n",
       "      <td>0.872</td>\n",
       "      <td>0.818</td>\n",
       "    </tr>\n",
       "    <tr>\n",
       "      <th>Sepal.Width</th>\n",
       "      <td>-0.109</td>\n",
       "      <td>1.000</td>\n",
       "      <td>-0.421</td>\n",
       "      <td>-0.357</td>\n",
       "    </tr>\n",
       "    <tr>\n",
       "      <th>Petal.Length</th>\n",
       "      <td>0.872</td>\n",
       "      <td>-0.421</td>\n",
       "      <td>1.000</td>\n",
       "      <td>0.963</td>\n",
       "    </tr>\n",
       "    <tr>\n",
       "      <th>Petal.Width</th>\n",
       "      <td>0.818</td>\n",
       "      <td>-0.357</td>\n",
       "      <td>0.963</td>\n",
       "      <td>1.000</td>\n",
       "    </tr>\n",
       "  </tbody>\n",
       "</table>\n",
       "</div>"
      ],
      "text/plain": [
       "              Sepal.Length  Sepal.Width  Petal.Length  Petal.Width\n",
       "Sepal.Length         1.000       -0.109         0.872        0.818\n",
       "Sepal.Width         -0.109        1.000        -0.421       -0.357\n",
       "Petal.Length         0.872       -0.421         1.000        0.963\n",
       "Petal.Width          0.818       -0.357         0.963        1.000"
      ]
     },
     "execution_count": 9,
     "metadata": {},
     "output_type": "execute_result"
    }
   ],
   "source": [
    "#correlation array\n",
    "np.round(df[['Sepal.Length', 'Sepal.Width', 'Petal.Length', 'Petal.Width']].corr(),3)"
   ]
  },
  {
   "cell_type": "code",
   "execution_count": 10,
   "id": "43827e9b-7081-43b0-84f0-c8f43ddf5e4f",
   "metadata": {},
   "outputs": [
    {
     "data": {
      "text/plain": [
       "array([0.881, 0.   ])"
      ]
     },
     "execution_count": 10,
     "metadata": {},
     "output_type": "execute_result"
    }
   ],
   "source": [
    "#using the SciPy function\n",
    "#Correlation and p-value\n",
    "np.round(st.spearmanr(x,y),3)"
   ]
  },
  {
   "cell_type": "code",
   "execution_count": 11,
   "id": "0f9c67d3-c86c-4be8-8628-6f2bfdcafa74",
   "metadata": {},
   "outputs": [
    {
     "data": {
      "text/plain": [
       "array([0.718, 0.   ])"
      ]
     },
     "execution_count": 11,
     "metadata": {},
     "output_type": "execute_result"
    }
   ],
   "source": [
    "#Using the Scipy function\n",
    "#Correlation and p-value\n",
    "np.round(st.kendalltau(x,y),3) #correlation coefficient and p-value"
   ]
  },
  {
   "cell_type": "code",
   "execution_count": 12,
   "id": "b1372c69-82dc-4e61-ab84-ccc6b88a0306",
   "metadata": {},
   "outputs": [],
   "source": [
    "# read in another data set\n",
    "df = pd.read_csv('data_studentlist.csv', header='infer')"
   ]
  },
  {
   "cell_type": "code",
   "execution_count": 13,
   "id": "c4750c47-0d95-4d1a-9e18-bb6e047997ed",
   "metadata": {},
   "outputs": [
    {
     "data": {
      "text/html": [
       "<div>\n",
       "<style scoped>\n",
       "    .dataframe tbody tr th:only-of-type {\n",
       "        vertical-align: middle;\n",
       "    }\n",
       "\n",
       "    .dataframe tbody tr th {\n",
       "        vertical-align: top;\n",
       "    }\n",
       "\n",
       "    .dataframe thead th {\n",
       "        text-align: right;\n",
       "    }\n",
       "</style>\n",
       "<table border=\"1\" class=\"dataframe\">\n",
       "  <thead>\n",
       "    <tr style=\"text-align: right;\">\n",
       "      <th></th>\n",
       "      <th>name</th>\n",
       "      <th>gender</th>\n",
       "      <th>age</th>\n",
       "      <th>grade</th>\n",
       "      <th>absence</th>\n",
       "      <th>bloodtype</th>\n",
       "      <th>height</th>\n",
       "      <th>weight</th>\n",
       "    </tr>\n",
       "  </thead>\n",
       "  <tbody>\n",
       "    <tr>\n",
       "      <th>0</th>\n",
       "      <td>Jared Diamond</td>\n",
       "      <td>M</td>\n",
       "      <td>23</td>\n",
       "      <td>3</td>\n",
       "      <td>Y</td>\n",
       "      <td>O</td>\n",
       "      <td>165.3</td>\n",
       "      <td>68.2</td>\n",
       "    </tr>\n",
       "    <tr>\n",
       "      <th>1</th>\n",
       "      <td>Sarah O'Donnel</td>\n",
       "      <td>F</td>\n",
       "      <td>22</td>\n",
       "      <td>2</td>\n",
       "      <td>N</td>\n",
       "      <td>AB</td>\n",
       "      <td>170.1</td>\n",
       "      <td>53.0</td>\n",
       "    </tr>\n",
       "    <tr>\n",
       "      <th>2</th>\n",
       "      <td>Brian Martin</td>\n",
       "      <td>M</td>\n",
       "      <td>24</td>\n",
       "      <td>4</td>\n",
       "      <td>N</td>\n",
       "      <td>B</td>\n",
       "      <td>175.0</td>\n",
       "      <td>80.1</td>\n",
       "    </tr>\n",
       "  </tbody>\n",
       "</table>\n",
       "</div>"
      ],
      "text/plain": [
       "             name gender  age  grade absence bloodtype  height  weight\n",
       "0   Jared Diamond      M   23      3       Y         O   165.3    68.2\n",
       "1  Sarah O'Donnel      F   22      2       N        AB   170.1    53.0\n",
       "2    Brian Martin      M   24      4       N         B   175.0    80.1"
      ]
     },
     "execution_count": 13,
     "metadata": {},
     "output_type": "execute_result"
    }
   ],
   "source": [
    "df.head(3)"
   ]
  },
  {
   "cell_type": "code",
   "execution_count": 14,
   "id": "0df95260-50e2-4282-804a-3b2a59aaa94f",
   "metadata": {},
   "outputs": [],
   "source": [
    "#set aside two variables\n",
    "x = df.height\n",
    "y = df.weight"
   ]
  },
  {
   "cell_type": "code",
   "execution_count": 19,
   "id": "535ddb83-7e6a-4d73-8bec-9d5ecae4ed22",
   "metadata": {},
   "outputs": [
    {
     "data": {
      "text/plain": [
       "{'low': 0.2672612419124244}"
      ]
     },
     "execution_count": 19,
     "metadata": {},
     "output_type": "execute_result"
    }
   ],
   "source": [
    "#Apply the Fisher's z-transformation.\n",
    "# See the Lecture.\n",
    "n = len(x)\n",
    "r = x.corr(y)\n",
    "z = np.arctanh(r)\n",
    "std_error_z = 1/np.sqrt(n-3)\n",
    "{'low':std_error_z}"
   ]
  },
  {
   "cell_type": "code",
   "execution_count": 17,
   "id": "9bc508b8-5986-4669-b82e-7f0564e89b58",
   "metadata": {},
   "outputs": [
    {
     "data": {
      "text/plain": [
       "{'low': 0.26960396330592223, 'high': 0.992023815061445}"
      ]
     },
     "execution_count": 17,
     "metadata": {},
     "output_type": "execute_result"
    }
   ],
   "source": [
    "# 95% confidence interval.\n",
    "# Expressed as a dictionary object.\n",
    "{'low':np.tanh(z-st.norm.ppf(0.975)*std_error_z), 'high': np.tanh(z+st.norm.ppf(0.975))}"
   ]
  },
  {
   "cell_type": "code",
   "execution_count": 18,
   "id": "1694840a-13cd-46e1-bcc4-73751cda4e41",
   "metadata": {},
   "outputs": [
    {
     "data": {
      "text/plain": [
       "{'low': 0.11137578298592947, 'high': 0.9976660596052384}"
      ]
     },
     "execution_count": 18,
     "metadata": {},
     "output_type": "execute_result"
    }
   ],
   "source": [
    "# 99% confidence interval.\n",
    "# Expressed as a dictionary object.\n",
    "{'low':np.tanh(z-st.norm.ppf(0.995)*std_error_z), 'high': np.tanh(z+st.norm.ppf(0.995))}"
   ]
  },
  {
   "cell_type": "code",
   "execution_count": null,
   "id": "0128733a-c5b9-41a0-8530-5f4381dadcbe",
   "metadata": {},
   "outputs": [],
   "source": []
  }
 ],
 "metadata": {
  "kernelspec": {
   "display_name": "Python 3 (ipykernel)",
   "language": "python",
   "name": "python3"
  },
  "language_info": {
   "codemirror_mode": {
    "name": "ipython",
    "version": 3
   },
   "file_extension": ".py",
   "mimetype": "text/x-python",
   "name": "python",
   "nbconvert_exporter": "python",
   "pygments_lexer": "ipython3",
   "version": "3.11.7"
  }
 },
 "nbformat": 4,
 "nbformat_minor": 5
}
